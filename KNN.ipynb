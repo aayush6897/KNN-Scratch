{
 "cells": [
  {
   "cell_type": "markdown",
   "metadata": {},
   "source": [
    "# K-Nearest Neighbours(KNN) Algorithm From Scratch"
   ]
  },
  {
   "cell_type": "code",
   "execution_count": 1,
   "metadata": {
    "collapsed": true
   },
   "outputs": [],
   "source": [
    "#importing necessary libraries\n",
    "import numpy as np\n",
    "from matplotlib import pyplot as plt\n",
    "%matplotlib inline\n",
    "import pandas as pd"
   ]
  },
  {
   "cell_type": "code",
   "execution_count": 2,
   "metadata": {},
   "outputs": [
    {
     "data": {
      "text/html": [
       "<div>\n",
       "<style>\n",
       "    .dataframe thead tr:only-child th {\n",
       "        text-align: right;\n",
       "    }\n",
       "\n",
       "    .dataframe thead th {\n",
       "        text-align: left;\n",
       "    }\n",
       "\n",
       "    .dataframe tbody tr th {\n",
       "        vertical-align: top;\n",
       "    }\n",
       "</style>\n",
       "<table border=\"1\" class=\"dataframe\">\n",
       "  <thead>\n",
       "    <tr style=\"text-align: right;\">\n",
       "      <th></th>\n",
       "      <th>SepalLengthCm</th>\n",
       "      <th>SepalWidthCm</th>\n",
       "      <th>PetalLengthCm</th>\n",
       "      <th>PetalWidthCm</th>\n",
       "      <th>Label</th>\n",
       "    </tr>\n",
       "  </thead>\n",
       "  <tbody>\n",
       "    <tr>\n",
       "      <th>0</th>\n",
       "      <td>5.1</td>\n",
       "      <td>3.5</td>\n",
       "      <td>1.4</td>\n",
       "      <td>0.2</td>\n",
       "      <td>Iris-setosa</td>\n",
       "    </tr>\n",
       "    <tr>\n",
       "      <th>1</th>\n",
       "      <td>4.9</td>\n",
       "      <td>3.0</td>\n",
       "      <td>1.4</td>\n",
       "      <td>0.2</td>\n",
       "      <td>Iris-setosa</td>\n",
       "    </tr>\n",
       "    <tr>\n",
       "      <th>2</th>\n",
       "      <td>4.7</td>\n",
       "      <td>3.2</td>\n",
       "      <td>1.3</td>\n",
       "      <td>0.2</td>\n",
       "      <td>Iris-setosa</td>\n",
       "    </tr>\n",
       "    <tr>\n",
       "      <th>3</th>\n",
       "      <td>4.6</td>\n",
       "      <td>3.1</td>\n",
       "      <td>1.5</td>\n",
       "      <td>0.2</td>\n",
       "      <td>Iris-setosa</td>\n",
       "    </tr>\n",
       "    <tr>\n",
       "      <th>4</th>\n",
       "      <td>5.0</td>\n",
       "      <td>3.6</td>\n",
       "      <td>1.4</td>\n",
       "      <td>0.2</td>\n",
       "      <td>Iris-setosa</td>\n",
       "    </tr>\n",
       "  </tbody>\n",
       "</table>\n",
       "</div>"
      ],
      "text/plain": [
       "   SepalLengthCm  SepalWidthCm  PetalLengthCm  PetalWidthCm        Label\n",
       "0            5.1           3.5            1.4           0.2  Iris-setosa\n",
       "1            4.9           3.0            1.4           0.2  Iris-setosa\n",
       "2            4.7           3.2            1.3           0.2  Iris-setosa\n",
       "3            4.6           3.1            1.5           0.2  Iris-setosa\n",
       "4            5.0           3.6            1.4           0.2  Iris-setosa"
      ]
     },
     "execution_count": 2,
     "metadata": {},
     "output_type": "execute_result"
    }
   ],
   "source": [
    "#loading dataset using Pandas in pandas dataframe\n",
    "data=pd.read_csv('/home/aayush/MLearning/datasets/iris.csv')\n",
    "data.head()       #prints the top 5 values in dataframe"
   ]
  },
  {
   "cell_type": "code",
   "execution_count": 3,
   "metadata": {
    "collapsed": true
   },
   "outputs": [],
   "source": [
    "#converting pandas dataframe into numpy array\n",
    "data=np.asarray(data)\n",
    "#shuffling the data\n",
    "np.random.shuffle(data)"
   ]
  },
  {
   "cell_type": "code",
   "execution_count": 4,
   "metadata": {},
   "outputs": [
    {
     "name": "stdout",
     "output_type": "stream",
     "text": [
      "(120, 4) (30, 4)\n",
      "(120,) (30,)\n"
     ]
    }
   ],
   "source": [
    "#to split dataset into Training and Testing parts\n",
    "split=int(0.8 * data.shape[0])     #da.shape returns the shape of da array\n",
    "\n",
    "xtrain=data[:split,:-1]           #xtrain contains features of our training set\n",
    "xtest=data[split:,:-1]            #xtest contains features of out testing set\n",
    "\n",
    "ytrain=data[:split,-1]             #ytrain contain labels of our training set\n",
    "ytest=data[split:,-1]              #ytest contain labels of our testing set\n",
    "\n",
    "\n",
    "#printing the shape of array after splitting\n",
    "print(xtrain.shape,xtest.shape)\n",
    "print(ytrain.shape,ytest.shape)"
   ]
  },
  {
   "cell_type": "code",
   "execution_count": 5,
   "metadata": {
    "collapsed": true
   },
   "outputs": [],
   "source": [
    "#function to calculate distance\n",
    "def dist(x1,x2):\n",
    "    d=np.sqrt(((x1-x2)**2).sum())      #here we are calculatng mean square error\n",
    "    return d"
   ]
  },
  {
   "cell_type": "code",
   "execution_count": 6,
   "metadata": {},
   "outputs": [],
   "source": [
    "# function to predict the possible label\n",
    "def knearn(xtrain,ytrain,xtest,k=5):        #function takes the training set features, labels  \n",
    "                                            #and testing feature to predict its label, it also \n",
    "                                            #takes k as parameter if you wish to change.\n",
    "    vals=[]                                    #empty list to store labels and corresponding distance\n",
    "    for i in range(xtrain.shape[0]):\n",
    "        d=dist(xtrain[i],xtest)                #calculate distance btw testing and training set\n",
    "        vals.append([d,ytrain[i]])             #append distance and corresponding labels as a list to main list\n",
    "        \n",
    "        \n",
    "    sorted_list=sorted(vals,key=lambda x:x[0])     #sort the list wrt. to distance\n",
    "    sorted_list=np.asarray(sorted_list)                #to convert list into numpy array\n",
    "    \n",
    "    k_neighbours=sorted_list[:k,-1]             #choose top k values from list and append to new list neighbours\n",
    "    \n",
    "    frequency=np.unique(k_neighbours,return_counts=True)  #to get unique labels from neighbours and their count\n",
    "    \n",
    "    max_count=frequency[1].argmax()    #to get the index of the unique labels occuring maximun no. of time\n",
    "    \n",
    "    return(frequency[0][max_count])    #to return the label corresponding maximum count"
   ]
  },
  {
   "cell_type": "code",
   "execution_count": 7,
   "metadata": {},
   "outputs": [
    {
     "name": "stdout",
     "output_type": "stream",
     "text": [
      "True\n",
      "True\n",
      "False\n",
      "True\n",
      "True\n",
      "True\n",
      "True\n",
      "True\n",
      "True\n",
      "True\n",
      "True\n",
      "True\n",
      "True\n",
      "True\n",
      "True\n",
      "True\n",
      "True\n",
      "True\n",
      "True\n",
      "True\n",
      "True\n",
      "True\n",
      "True\n",
      "True\n",
      "True\n",
      "True\n",
      "True\n",
      "True\n",
      "True\n",
      "True\n",
      "96.66666666666667\n"
     ]
    }
   ],
   "source": [
    "#function to get the accuracy of our algorithm on testing set.\n",
    "def gacc(k=5):\n",
    "    pred=[]\n",
    "    for iac in range(xtest.shape[0]):\n",
    "        pred.append(knearn(xtrain,ytrain,xtest[iac],k)) #to predict labels of all the testing data\n",
    "        \n",
    "    pred=np.asarray(pred)     #converting them to numpy array\n",
    "    \n",
    "    for ig in range(pred.shape[0]):    #to print true if predicted labels match original labels otherwise false\n",
    "        if(pred[ig]==ytest[ig]):\n",
    "            print(\"True\")\n",
    "        else:\n",
    "            print(\"False\")\n",
    "            \n",
    "    return 100*float((ytest == pred).sum())/pred.shape[0]   #to print tht total accuracy of our algorithm\n",
    "\n",
    "print(gacc(5))\n",
    "        "
   ]
  }
 ],
 "metadata": {
  "kernelspec": {
   "display_name": "Python 3",
   "language": "python",
   "name": "python3"
  },
  "language_info": {
   "codemirror_mode": {
    "name": "ipython",
    "version": 3
   },
   "file_extension": ".py",
   "mimetype": "text/x-python",
   "name": "python",
   "nbconvert_exporter": "python",
   "pygments_lexer": "ipython3",
   "version": "3.5.2"
  }
 },
 "nbformat": 4,
 "nbformat_minor": 2
}
